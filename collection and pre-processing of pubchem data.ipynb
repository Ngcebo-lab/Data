{
 "cells": [
  {
   "cell_type": "markdown",
   "metadata": {},
   "source": [
    "# **Computational Drug Discovery Download Bioactivity Data**\n",
    "Ngceboyakwethu Primrose Zinyama\n",
    "\n",
    "In this Jupyter notebook PubChem bioactivity data will be collected and preprocessed."
   ]
  },
  {
   "cell_type": "markdown",
   "metadata": {},
   "source": [
    "## **PubChem Database**\n",
    "\n",
    "PubChem is the world's largest collection of freely accessible chemical information. Search chemicals by name, molecular formula, structure, and other identifiers. Find chemical and physical properties, biological activities, safety and toxicity information, patents, literature citations and more.\n",
    "Data as of February 6, 2025"
   ]
  },
  {
   "cell_type": "markdown",
   "metadata": {},
   "source": [
    "## **Installing libraries**"
   ]
  },
  {
   "cell_type": "markdown",
   "metadata": {},
   "source": [
    "Install the pubchempy package so that we can retrieve bioactivity data from the PubChem Database."
   ]
  },
  {
   "cell_type": "code",
   "execution_count": 1,
   "metadata": {},
   "outputs": [
    {
     "name": "stdout",
     "output_type": "stream",
     "text": [
      "Defaulting to user installation because normal site-packages is not writeable\n",
      "Requirement already satisfied: pubchempy in c:\\users\\admin\\appdata\\local\\packages\\pythonsoftwarefoundation.python.3.13_qbz5n2kfra8p0\\localcache\\local-packages\\python313\\site-packages (1.0.4)\n"
     ]
    },
    {
     "name": "stderr",
     "output_type": "stream",
     "text": [
      "\n",
      "[notice] A new release of pip is available: 24.3.1 -> 25.0\n",
      "[notice] To update, run: C:\\Users\\Admin\\AppData\\Local\\Microsoft\\WindowsApps\\PythonSoftwareFoundation.Python.3.13_qbz5n2kfra8p0\\python.exe -m pip install --upgrade pip\n"
     ]
    }
   ],
   "source": [
    "! pip install pubchempy"
   ]
  },
  {
   "cell_type": "markdown",
   "metadata": {},
   "source": [
    "## **Importing libraries**"
   ]
  },
  {
   "cell_type": "markdown",
   "metadata": {},
   "source": [
    "## **Installing pandas**\n",
    "\n",
    "Pandas are python libraries that are used to analyse big datasets and make conclusions based on statistical analysis."
   ]
  },
  {
   "cell_type": "code",
   "execution_count": null,
   "metadata": {},
   "outputs": [],
   "source": [
    "# Dataframe library\n",
    "! pip install pandas"
   ]
  },
  {
   "cell_type": "code",
   "execution_count": 4,
   "metadata": {},
   "outputs": [
    {
     "name": "stdout",
     "output_type": "stream",
     "text": [
      "Defaulting to user installation because normal site-packages is not writeable\n",
      "Collecting simplejson\n",
      "  Downloading simplejson-3.19.3-cp313-cp313-win_amd64.whl.metadata (3.2 kB)\n",
      "Downloading simplejson-3.19.3-cp313-cp313-win_amd64.whl (75 kB)\n",
      "Installing collected packages: simplejson\n",
      "Successfully installed simplejson-3.19.3\n"
     ]
    },
    {
     "name": "stderr",
     "output_type": "stream",
     "text": [
      "\n",
      "[notice] A new release of pip is available: 24.3.1 -> 25.0\n",
      "[notice] To update, run: C:\\Users\\Admin\\AppData\\Local\\Microsoft\\WindowsApps\\PythonSoftwareFoundation.Python.3.13_qbz5n2kfra8p0\\python.exe -m pip install --upgrade pip\n"
     ]
    }
   ],
   "source": [
    "! pip install simplejson"
   ]
  },
  {
   "cell_type": "code",
   "execution_count": 2,
   "metadata": {},
   "outputs": [],
   "source": [
    "# Import necessary libraries\n",
    "# Fetch data through PubChem\n",
    "import pandas as pd\n",
    "import simplejson\n",
    "import requests\n",
    "import pubchempy as pcp\n",
    "import csv"
   ]
  },
  {
   "cell_type": "markdown",
   "metadata": {},
   "source": [
    "### **Getting csv file from PubChem for human gamma secretase inhibitors with nicastrin bioactivity **\n",
    "\n",
    "This website assisted in compiling the pugrest to download the file:\n",
    " https://iupac.github.io/WFChemCookbook/datasources/pubchem_pugrest1.html\n",
    "\n",
    " PUG stands for Power User Gateway, which encompasses several variants of methods for programmatic access to PubChem data and services. This REST-style interface is intended to be a simple access route to PubChem for things like scripts, javascript embedded in web pages, and 3rd party applications, without the overhead of XML, SOAP envelopes, etc. that are required for other versions of PUG. PUG REST also provides convenient access to information on PubChem records that is not possible with any other service."
   ]
  },
  {
   "cell_type": "markdown",
   "metadata": {},
   "source": [
    "## **Construct a PUG-REST API and retrieve data**"
   ]
  },
  {
   "cell_type": "code",
   "execution_count": null,
   "metadata": {},
   "outputs": [],
   "source": [
    "pugrest_prolog = \"https://pubchem.ncbi.nlm.nih.gov/rest/pug\"\n",
    "pugrest_input = \"protein/accession/Q92542\"\n",
    "pugrest_operation = \"consise\"\n",
    "pugrest_output =\"csv\"\n",
    "\n",
    "pugrest_url = \"/\".join( (pugrest_prolog, pugrest_input, pugrest_operation, pugrest_output ) )\n",
    "print(\"REQUEST URL:\", pugrest_url)\n",
    "\n",
    "res = requests.get(pugrest_url)\n",
    "print(\"OUTPUT    :\", res.text.strip())"
   ]
  },
  {
   "cell_type": "code",
   "execution_count": null,
   "metadata": {},
   "outputs": [],
   "source": [
    "print(\"REQUEST URL:\", pugrest_url)\n",
    "\n",
    "response = requests.get(pugrest_url)\n",
    "\n",
    "# Check if the request was successful (status code 200)\n",
    "if response.status_code == 200:\n",
    "    # Save the content of the response to a local CSV file\n",
    "    with open(\"downloaded_data.csv\", \"wb\") as f:\n",
    "        f.write(response.content)\n",
    "    print(\"CSV file downloaded successfully\")\n",
    "else:\n",
    "    print(\"Failed to download CSV file. Status code:\", response.status_code)\n",
    "\n",
    "# Read the CSV file into a Pandas DataFrame\n",
    "df = pd.read_csv(\"downloaded_data.csv\")"
   ]
  },
  {
   "cell_type": "code",
   "execution_count": 7,
   "metadata": {},
   "outputs": [
    {
     "data": {
      "text/plain": [
       "<bound method NDFrame.head of            baid     activity      aid        sid        cid   geneid  \\\n",
       "0      99544644       Active    45082  134461073   56681654  23385.0   \n",
       "1      99544673       Active    45082  103437680   44386767  23385.0   \n",
       "2      99544679       Active    45082  103437853   15344717  23385.0   \n",
       "3      99544685       Active    45082  103438207   12147040  23385.0   \n",
       "4      99544742       Active    45082  103437123   44386506  23385.0   \n",
       "...         ...          ...      ...        ...        ...      ...   \n",
       "5013  380626213  Unspecified  1872942  482051457  168272247  23385.0   \n",
       "5014  380626219  Unspecified  1872942  482069019   22204430  23385.0   \n",
       "5015  380626264  Unspecified  1872941  482051457  168272247  23385.0   \n",
       "5016  407928578  Unspecified  1929078  103714659     107715  23385.0   \n",
       "5017  407928617  Unspecified  1929079  103189275       9651  23385.0   \n",
       "\n",
       "            pmid             aidtype  aidmdate  hasdrc  ...  repacxn taxid  \\\n",
       "0     15050631.0        Confirmatory  20220830       0  ...   Q92542  9606   \n",
       "1     15050631.0        Confirmatory  20220830       0  ...   Q92542  9606   \n",
       "2     15050631.0        Confirmatory  20220830       0  ...   Q92542  9606   \n",
       "3     15050631.0        Confirmatory  20220830       0  ...   Q92542  9606   \n",
       "4     15050631.0        Confirmatory  20220830       0  ...   Q92542  9606   \n",
       "...          ...                 ...       ...     ...  ...      ...   ...   \n",
       "5013  35398739.0  Literature-derived  20230629       0  ...   Q92542  9606   \n",
       "5014  35398739.0  Literature-derived  20230629       0  ...   Q92542  9606   \n",
       "5015  35398739.0  Literature-derived  20230629       0  ...   Q92542  9606   \n",
       "5016  34153839.0        Confirmatory  20240503       0  ...   Q92542  9606   \n",
       "5017  34153839.0        Confirmatory  20240503       0  ...   Q92542  9606   \n",
       "\n",
       "     cellids targettaxid  anatomyid anatomy                        dois  \\\n",
       "0      197.0         NaN        NaN     NaN  10.1016/j.bmcl.2004.01.077   \n",
       "1      197.0         NaN        NaN     NaN  10.1016/j.bmcl.2004.01.077   \n",
       "2      197.0         NaN        NaN     NaN  10.1016/j.bmcl.2004.01.077   \n",
       "3      197.0         NaN        NaN     NaN  10.1016/j.bmcl.2004.01.077   \n",
       "4      197.0         NaN        NaN     NaN  10.1016/j.bmcl.2004.01.077   \n",
       "...      ...         ...        ...     ...                         ...   \n",
       "5013     NaN         NaN        NaN     NaN   10.1016/j.bmc.2022.116742   \n",
       "5014     NaN         NaN        NaN     NaN   10.1016/j.bmc.2022.116742   \n",
       "5015     NaN         NaN        NaN     NaN   10.1016/j.bmc.2022.116742   \n",
       "5016     NaN         NaN        NaN     NaN   10.1016/j.bmc.2021.116270   \n",
       "5017     NaN         NaN        NaN     NaN   10.1016/j.bmc.2021.116270   \n",
       "\n",
       "     pmcids      pclids                                          citations  \n",
       "0       NaN  33494572.0  Esler WP, Das C, Wolfe MS. Probing pockets S2-...  \n",
       "1       NaN  33494572.0  Esler WP, Das C, Wolfe MS. Probing pockets S2-...  \n",
       "2       NaN  33494572.0  Esler WP, Das C, Wolfe MS. Probing pockets S2-...  \n",
       "3       NaN  33494572.0  Esler WP, Das C, Wolfe MS. Probing pockets S2-...  \n",
       "4       NaN  33494572.0  Esler WP, Das C, Wolfe MS. Probing pockets S2-...  \n",
       "...     ...         ...                                                ...  \n",
       "5013    NaN  34330782.0  Kumar N, Kumar V, Anand P, Kumar V, Ranjan Dwi...  \n",
       "5014    NaN  34330782.0  Kumar N, Kumar V, Anand P, Kumar V, Ranjan Dwi...  \n",
       "5015    NaN  34330782.0  Kumar N, Kumar V, Anand P, Kumar V, Ranjan Dwi...  \n",
       "5016    NaN  31843907.0  Hügel HM, de Silva NH, Siddiqui A, Blanch E, L...  \n",
       "5017    NaN  31843907.0  Hügel HM, de Silva NH, Siddiqui A, Blanch E, L...  \n",
       "\n",
       "[5018 rows x 31 columns]>"
      ]
     },
     "execution_count": 7,
     "metadata": {},
     "output_type": "execute_result"
    }
   ],
   "source": [
    "import pandas as pd\n",
    "load = pd.read_csv(\"downloaded_data.csv\")\n",
    "load.head"
   ]
  },
  {
   "cell_type": "markdown",
   "metadata": {},
   "source": [
    "##How to Select Specific CSV Columns Using Python and Pandas**\n",
    "\n",
    "We are interested in the column names cid, cmpdname, activity, acname, acvalue, and aidtype"
   ]
  },
  {
   "cell_type": "code",
   "execution_count": 13,
   "metadata": {},
   "outputs": [],
   "source": [
    "df = df[['cid', 'cmpdname', 'activity','acname','acvalue','aidtype']]"
   ]
  },
  {
   "cell_type": "markdown",
   "metadata": {},
   "source": [
    "##How to save the new csv file with just the columns required**"
   ]
  },
  {
   "cell_type": "code",
   "execution_count": 14,
   "metadata": {},
   "outputs": [],
   "source": [
    "df.to_csv('C:/jupiter/nct_pubchem.csv', index=False)"
   ]
  },
  {
   "cell_type": "code",
   "execution_count": 16,
   "metadata": {},
   "outputs": [
    {
     "data": {
      "text/html": [
       "<div>\n",
       "<style scoped>\n",
       "    .dataframe tbody tr th:only-of-type {\n",
       "        vertical-align: middle;\n",
       "    }\n",
       "\n",
       "    .dataframe tbody tr th {\n",
       "        vertical-align: top;\n",
       "    }\n",
       "\n",
       "    .dataframe thead th {\n",
       "        text-align: right;\n",
       "    }\n",
       "</style>\n",
       "<table border=\"1\" class=\"dataframe\">\n",
       "  <thead>\n",
       "    <tr style=\"text-align: right;\">\n",
       "      <th></th>\n",
       "      <th>cid</th>\n",
       "      <th>cmpdname</th>\n",
       "      <th>activity</th>\n",
       "      <th>acname</th>\n",
       "      <th>acvalue</th>\n",
       "      <th>aidtype</th>\n",
       "    </tr>\n",
       "  </thead>\n",
       "  <tbody>\n",
       "    <tr>\n",
       "      <th>0</th>\n",
       "      <td>56681654</td>\n",
       "      <td>methyl (2S,3R)-2-[[(2S)-2-[[(2S)-2-[[benzyl-[(...</td>\n",
       "      <td>Active</td>\n",
       "      <td>IC50</td>\n",
       "      <td>0.27</td>\n",
       "      <td>Confirmatory</td>\n",
       "    </tr>\n",
       "    <tr>\n",
       "      <th>1</th>\n",
       "      <td>44386767</td>\n",
       "      <td>2-((S)-2-{(S)-2-[3-Benzyl-3-((2R,3S)-3-tert-bu...</td>\n",
       "      <td>Active</td>\n",
       "      <td>IC50</td>\n",
       "      <td>0.25</td>\n",
       "      <td>Confirmatory</td>\n",
       "    </tr>\n",
       "    <tr>\n",
       "      <th>2</th>\n",
       "      <td>15344717</td>\n",
       "      <td>(S)-2-{(S)-2-[3-((2R,3S)-3-tert-Butoxycarbonyl...</td>\n",
       "      <td>Active</td>\n",
       "      <td>IC50</td>\n",
       "      <td>3.10</td>\n",
       "      <td>Confirmatory</td>\n",
       "    </tr>\n",
       "    <tr>\n",
       "      <th>3</th>\n",
       "      <td>12147040</td>\n",
       "      <td>(R)-methyl 2-((R)-2-(3-benzyl-3-((2S,3R)-3-(te...</td>\n",
       "      <td>Active</td>\n",
       "      <td>IC50</td>\n",
       "      <td>0.65</td>\n",
       "      <td>Confirmatory</td>\n",
       "    </tr>\n",
       "    <tr>\n",
       "      <th>4</th>\n",
       "      <td>44386506</td>\n",
       "      <td>(S)-2-((S)-2-{3-Benzyl-3-[(2R,3S)-3-((S)-2-ter...</td>\n",
       "      <td>Active</td>\n",
       "      <td>IC50</td>\n",
       "      <td>0.23</td>\n",
       "      <td>Confirmatory</td>\n",
       "    </tr>\n",
       "    <tr>\n",
       "      <th>...</th>\n",
       "      <td>...</td>\n",
       "      <td>...</td>\n",
       "      <td>...</td>\n",
       "      <td>...</td>\n",
       "      <td>...</td>\n",
       "      <td>...</td>\n",
       "    </tr>\n",
       "    <tr>\n",
       "      <th>5001</th>\n",
       "      <td>162649237</td>\n",
       "      <td>N-(2-ethylpyrazol-3-yl)-4-[6-methoxy-5-(4-meth...</td>\n",
       "      <td>Unspecified</td>\n",
       "      <td>IC50</td>\n",
       "      <td>1.00</td>\n",
       "      <td>Confirmatory</td>\n",
       "    </tr>\n",
       "    <tr>\n",
       "      <th>5002</th>\n",
       "      <td>162646677</td>\n",
       "      <td>4-[6-methoxy-5-(4-methylimidazol-1-yl)pyridin-...</td>\n",
       "      <td>Unspecified</td>\n",
       "      <td>IC50</td>\n",
       "      <td>1.00</td>\n",
       "      <td>Confirmatory</td>\n",
       "    </tr>\n",
       "    <tr>\n",
       "      <th>5003</th>\n",
       "      <td>126599753</td>\n",
       "      <td>5-(4-chlorophenyl)-6-cyclopropyl-3-[6-methoxy-...</td>\n",
       "      <td>Unspecified</td>\n",
       "      <td>IC50</td>\n",
       "      <td>10.00</td>\n",
       "      <td>Confirmatory</td>\n",
       "    </tr>\n",
       "    <tr>\n",
       "      <th>5016</th>\n",
       "      <td>107715</td>\n",
       "      <td>Dihydroergocristine</td>\n",
       "      <td>Unspecified</td>\n",
       "      <td>IC50</td>\n",
       "      <td>25.00</td>\n",
       "      <td>Confirmatory</td>\n",
       "    </tr>\n",
       "    <tr>\n",
       "      <th>5017</th>\n",
       "      <td>9651</td>\n",
       "      <td>Galantamine</td>\n",
       "      <td>Unspecified</td>\n",
       "      <td>Ke</td>\n",
       "      <td>25.70</td>\n",
       "      <td>Confirmatory</td>\n",
       "    </tr>\n",
       "  </tbody>\n",
       "</table>\n",
       "<p>3990 rows × 6 columns</p>\n",
       "</div>"
      ],
      "text/plain": [
       "            cid                                           cmpdname  \\\n",
       "0      56681654  methyl (2S,3R)-2-[[(2S)-2-[[(2S)-2-[[benzyl-[(...   \n",
       "1      44386767  2-((S)-2-{(S)-2-[3-Benzyl-3-((2R,3S)-3-tert-bu...   \n",
       "2      15344717  (S)-2-{(S)-2-[3-((2R,3S)-3-tert-Butoxycarbonyl...   \n",
       "3      12147040  (R)-methyl 2-((R)-2-(3-benzyl-3-((2S,3R)-3-(te...   \n",
       "4      44386506  (S)-2-((S)-2-{3-Benzyl-3-[(2R,3S)-3-((S)-2-ter...   \n",
       "...         ...                                                ...   \n",
       "5001  162649237  N-(2-ethylpyrazol-3-yl)-4-[6-methoxy-5-(4-meth...   \n",
       "5002  162646677  4-[6-methoxy-5-(4-methylimidazol-1-yl)pyridin-...   \n",
       "5003  126599753  5-(4-chlorophenyl)-6-cyclopropyl-3-[6-methoxy-...   \n",
       "5016     107715                                Dihydroergocristine   \n",
       "5017       9651                                        Galantamine   \n",
       "\n",
       "         activity acname  acvalue       aidtype  \n",
       "0          Active   IC50     0.27  Confirmatory  \n",
       "1          Active   IC50     0.25  Confirmatory  \n",
       "2          Active   IC50     3.10  Confirmatory  \n",
       "3          Active   IC50     0.65  Confirmatory  \n",
       "4          Active   IC50     0.23  Confirmatory  \n",
       "...           ...    ...      ...           ...  \n",
       "5001  Unspecified   IC50     1.00  Confirmatory  \n",
       "5002  Unspecified   IC50     1.00  Confirmatory  \n",
       "5003  Unspecified   IC50    10.00  Confirmatory  \n",
       "5016  Unspecified   IC50    25.00  Confirmatory  \n",
       "5017  Unspecified     Ke    25.70  Confirmatory  \n",
       "\n",
       "[3990 rows x 6 columns]"
      ]
     },
     "execution_count": 16,
     "metadata": {},
     "output_type": "execute_result"
    }
   ],
   "source": [
    "df2 = df[df.acname.notna()]\n",
    "df2"
   ]
  },
  {
   "cell_type": "markdown",
   "metadata": {},
   "source": [
    "##Filtering and cleaning the data_set**"
   ]
  },
  {
   "cell_type": "code",
   "execution_count": null,
   "metadata": {},
   "outputs": [
    {
     "name": "stdout",
     "output_type": "stream",
     "text": [
      "            cid                                           cmpdname  \\\n",
      "0      56681654  methyl (2S,3R)-2-[[(2S)-2-[[(2S)-2-[[benzyl-[(...   \n",
      "1      44386767  2-((S)-2-{(S)-2-[3-Benzyl-3-((2R,3S)-3-tert-bu...   \n",
      "2      15344717  (S)-2-{(S)-2-[3-((2R,3S)-3-tert-Butoxycarbonyl...   \n",
      "3      12147040  (R)-methyl 2-((R)-2-(3-benzyl-3-((2S,3R)-3-(te...   \n",
      "4      44386506  (S)-2-((S)-2-{3-Benzyl-3-[(2R,3S)-3-((S)-2-ter...   \n",
      "...         ...                                                ...   \n",
      "5000   89657814  N-(2-ethyl-4,5,6,7-tetrahydroindazol-3-yl)-4-[...   \n",
      "5001  162649237  N-(2-ethylpyrazol-3-yl)-4-[6-methoxy-5-(4-meth...   \n",
      "5002  162646677  4-[6-methoxy-5-(4-methylimidazol-1-yl)pyridin-...   \n",
      "5003  126599753  5-(4-chlorophenyl)-6-cyclopropyl-3-[6-methoxy-...   \n",
      "5016     107715                                Dihydroergocristine   \n",
      "\n",
      "         activity acname  acvalue       aidtype  \n",
      "0          Active   IC50     0.27  Confirmatory  \n",
      "1          Active   IC50     0.25  Confirmatory  \n",
      "2          Active   IC50     3.10  Confirmatory  \n",
      "3          Active   IC50     0.65  Confirmatory  \n",
      "4          Active   IC50     0.23  Confirmatory  \n",
      "...           ...    ...      ...           ...  \n",
      "5000  Unspecified   IC50     1.00  Confirmatory  \n",
      "5001  Unspecified   IC50     1.00  Confirmatory  \n",
      "5002  Unspecified   IC50     1.00  Confirmatory  \n",
      "5003  Unspecified   IC50    10.00  Confirmatory  \n",
      "5016  Unspecified   IC50    25.00  Confirmatory  \n",
      "\n",
      "[3533 rows x 6 columns]\n"
     ]
    }
   ],
   "source": [
    "#Filtering to remain with the acname (activity name) as IC50\n",
    "import pandas as pd\n",
    "\n",
    "file_path = \"nct_pubchem.csv\"\n",
    "data = pd.read_csv(file_path)\n",
    "\n",
    "data = data.query('acname == \"IC50\"')\n",
    "data = data[[\"cid\", \"cmpdname\", \"activity\", \"acname\", \"acvalue\", \"aidtype\"]]\n",
    "\n",
    "data.to_csv(\"filtered_nct_pubchem.csv\")\n",
    "print(data)"
   ]
  },
  {
   "cell_type": "code",
   "execution_count": 41,
   "metadata": {},
   "outputs": [
    {
     "name": "stdout",
     "output_type": "stream",
     "text": [
      "            cid                                           cmpdname  \\\n",
      "0      56681654  methyl (2S,3R)-2-[[(2S)-2-[[(2S)-2-[[benzyl-[(...   \n",
      "1      44386767  2-((S)-2-{(S)-2-[3-Benzyl-3-((2R,3S)-3-tert-bu...   \n",
      "2      15344717  (S)-2-{(S)-2-[3-((2R,3S)-3-tert-Butoxycarbonyl...   \n",
      "3      12147040  (R)-methyl 2-((R)-2-(3-benzyl-3-((2S,3R)-3-(te...   \n",
      "4      44386506  (S)-2-((S)-2-{3-Benzyl-3-[(2R,3S)-3-((S)-2-ter...   \n",
      "...         ...                                                ...   \n",
      "3528   89657814  N-(2-ethyl-4,5,6,7-tetrahydroindazol-3-yl)-4-[...   \n",
      "3529  162649237  N-(2-ethylpyrazol-3-yl)-4-[6-methoxy-5-(4-meth...   \n",
      "3530  162646677  4-[6-methoxy-5-(4-methylimidazol-1-yl)pyridin-...   \n",
      "3531  126599753  5-(4-chlorophenyl)-6-cyclopropyl-3-[6-methoxy-...   \n",
      "3532     107715                                Dihydroergocristine   \n",
      "\n",
      "         activity acname  acvalue       aidtype  \n",
      "0          Active   IC50     0.27  Confirmatory  \n",
      "1          Active   IC50     0.25  Confirmatory  \n",
      "2          Active   IC50     3.10  Confirmatory  \n",
      "3          Active   IC50     0.65  Confirmatory  \n",
      "4          Active   IC50     0.23  Confirmatory  \n",
      "...           ...    ...      ...           ...  \n",
      "3528  Unspecified   IC50     1.00  Confirmatory  \n",
      "3529  Unspecified   IC50     1.00  Confirmatory  \n",
      "3530  Unspecified   IC50     1.00  Confirmatory  \n",
      "3531  Unspecified   IC50    10.00  Confirmatory  \n",
      "3532  Unspecified   IC50    25.00  Confirmatory  \n",
      "\n",
      "[3533 rows x 6 columns]\n"
     ]
    }
   ],
   "source": [
    "#Filtering to remain with the aidtype as Confirmatory\n",
    "import pandas as pd\n",
    "\n",
    "file_path = \"filtered_nct_pubchem.csv\"\n",
    "data = pd.read_csv(file_path)\n",
    "\n",
    "data = data.query('aidtype == \"Confirmatory\"')\n",
    "data = data[[\"cid\", \"cmpdname\", \"activity\", \"acname\", \"acvalue\", \"aidtype\"]]\n",
    "\n",
    "data.to_csv(\"filtered_nct_pubchem1.csv\")\n",
    "print(data)"
   ]
  },
  {
   "cell_type": "code",
   "execution_count": 42,
   "metadata": {},
   "outputs": [
    {
     "name": "stdout",
     "output_type": "stream",
     "text": [
      "            cid                                           cmpdname  activity  \\\n",
      "0      56681654  methyl (2S,3R)-2-[[(2S)-2-[[(2S)-2-[[benzyl-[(...    Active   \n",
      "1      44386767  2-((S)-2-{(S)-2-[3-Benzyl-3-((2R,3S)-3-tert-bu...    Active   \n",
      "2      15344717  (S)-2-{(S)-2-[3-((2R,3S)-3-tert-Butoxycarbonyl...    Active   \n",
      "3      12147040  (R)-methyl 2-((R)-2-(3-benzyl-3-((2S,3R)-3-(te...    Active   \n",
      "4      44386506  (S)-2-((S)-2-{3-Benzyl-3-[(2R,3S)-3-((S)-2-ter...    Active   \n",
      "...         ...                                                ...       ...   \n",
      "2957   11269353                                         Begacestat    Active   \n",
      "2958   57327010                                    Unii-PX8XQ3H3RV    Active   \n",
      "2959  160302852  tert-butyl N-[(2S,3R,5R)-6-[[(4S,7R)-8-amino-7...    Active   \n",
      "2987  137174942  1-benzyl-7-(3-methyl-1,2,4-triazol-1-yl)-5,10-...  Inactive   \n",
      "2988  137174952  1-benzyl-7-(4-chloroimidazol-1-yl)-5,10-dihydr...  Inactive   \n",
      "\n",
      "     acname  acvalue       aidtype  \n",
      "0      IC50  0.27000  Confirmatory  \n",
      "1      IC50  0.25000  Confirmatory  \n",
      "2      IC50  3.10000  Confirmatory  \n",
      "3      IC50  0.65000  Confirmatory  \n",
      "4      IC50  0.23000  Confirmatory  \n",
      "...     ...      ...           ...  \n",
      "2957   IC50  0.01500  Confirmatory  \n",
      "2958   IC50  0.00027  Confirmatory  \n",
      "2959   IC50  0.01700  Confirmatory  \n",
      "2987   IC50      NaN  Confirmatory  \n",
      "2988   IC50      NaN  Confirmatory  \n",
      "\n",
      "[2962 rows x 6 columns]\n"
     ]
    }
   ],
   "source": [
    "#Filtering to remain with the activity as activa and inactive only\n",
    "import pandas as pd\n",
    "\n",
    "file_path = \"filtered_nct_pubchem1.csv\"\n",
    "data = pd.read_csv(file_path)\n",
    "\n",
    "data = data.query('activity == \"Active\" or activity == \"Inactive\"')\n",
    "data = data[[\"cid\", \"cmpdname\", \"activity\", \"acname\", \"acvalue\", \"aidtype\"]]\n",
    "\n",
    "data.to_csv(\"filtered_nct_pubchem2.csv\")\n",
    "print(data)"
   ]
  },
  {
   "cell_type": "markdown",
   "metadata": {},
   "source": [
    "##Data pre-processing of the bioactivity data**\n"
   ]
  },
  {
   "cell_type": "markdown",
   "metadata": {},
   "source": [
    "following the example in dataprofessor's example in https://github.com/dataprofessor/code/blob/master/python/CDD_ML_Part_2_Exploratory_Data_Analysis.ipynb to calculate the pIC50. Remember IC50 values in uM need to be normalised by converting to M by dividing by 1000000 before -log conversion."
   ]
  },
  {
   "cell_type": "code",
   "execution_count": 3,
   "metadata": {},
   "outputs": [
    {
     "name": "stdout",
     "output_type": "stream",
     "text": [
      "pIC50 values have been saved to pIC50_nct_pubchem.csv\n"
     ]
    }
   ],
   "source": [
    "import pandas as pd\n",
    "import numpy as np\n",
    "\n",
    "# Function to convert IC50 (uM) to pIC50\n",
    "def ic50_to_pic50(ic50_um):\n",
    "    # Convert IC50 from µM to M\n",
    "    ic50_m = ic50_um / 1_000_000\n",
    "    \n",
    "    # Avoid negative or zero IC50 values\n",
    "    if ic50_m <= 0:\n",
    "        return np.nan  # Return NaN if IC50 is zero or negative\n",
    "    \n",
    "    # Calculate pIC50 using the IC50 in M\n",
    "    pic50_value = -np.log10(ic50_m)\n",
    "    return pic50_value\n",
    "\n",
    "# Read the CSV file\n",
    "input_file = 'filtered_nct_pubchem2.csv'  # Replace with the path to your input CSV file\n",
    "output_file = 'pIC50_nct_pubchem.csv'  # Path for the output file\n",
    "\n",
    "# Load the CSV into a DataFrame\n",
    "df = pd.read_csv(input_file)\n",
    "\n",
    "# Check the column name where IC50 values are stored\n",
    "# Assuming the IC50 values are in a column named 'IC50_uM', change it if necessary.\n",
    "ic50_column = 'acvalue'\n",
    "\n",
    "# Convert the IC50 values to pIC50 values\n",
    "df['pIC50'] = df[ic50_column].apply(ic50_to_pic50)\n",
    "\n",
    "# Save the new DataFrame with pIC50 values to a new CSV file\n",
    "df.to_csv(output_file, index=False)\n",
    "\n",
    "print(f\"pIC50 values have been saved to {output_file}\")"
   ]
  },
  {
   "cell_type": "markdown",
   "metadata": {},
   "source": [
    "### **Labeling compounds as either being active, inactive or intermediate**\n",
    "\n",
    "The bioactivity data is in the pIC50 unit. The inhibitory potencies of the data set, expressed as pIC50, ranged from 4.3 to 11.7 and compounds with a pIC50 ≥8.0 were classified as actives.  Compounds having values of greater than or equal 8 will be considered to be **active** while those less than 7 will be considered to be **inactive**. As for those values in between 7 and 8 nM will be referred to as **intermediate**. "
   ]
  },
  {
   "cell_type": "code",
   "execution_count": 5,
   "metadata": {},
   "outputs": [],
   "source": [
    "df2 = df[df.acvalue.notna()]\n",
    "df2\n",
    "bioactivity_class = []\n",
    "for i in df2.pIC50:\n",
    "  if float(i) >= 8:\n",
    "    bioactivity_class.append(\"active\")\n",
    "  elif float(i) <= 7:\n",
    "    bioactivity_class.append(\"inactive\")\n",
    "  else:\n",
    "    bioactivity_class.append(\"intermediate\")"
   ]
  },
  {
   "cell_type": "markdown",
   "metadata": {},
   "source": [
    "### **Iterate the *cid* to a list**"
   ]
  },
  {
   "cell_type": "code",
   "execution_count": 8,
   "metadata": {},
   "outputs": [],
   "source": [
    "cid = []\n",
    "for i in df2.cid:\n",
    "  cid.append(i)"
   ]
  },
  {
   "cell_type": "markdown",
   "metadata": {},
   "source": [
    "### **Iterate the *cmpdname* to a list**"
   ]
  },
  {
   "cell_type": "code",
   "execution_count": 9,
   "metadata": {},
   "outputs": [],
   "source": [
    "cmpdname = []\n",
    "for i in df2.cmpdname:\n",
    "  cmpdname.append(i)"
   ]
  },
  {
   "cell_type": "markdown",
   "metadata": {},
   "source": [
    "### **Iterate the *pIC50* to a list**"
   ]
  },
  {
   "cell_type": "code",
   "execution_count": 10,
   "metadata": {},
   "outputs": [],
   "source": [
    "pIC50 = []\n",
    "for i in df2.pIC50:\n",
    "  pIC50.append(i)"
   ]
  },
  {
   "cell_type": "markdown",
   "metadata": {},
   "source": [
    "### **Iterate the *acvalue* to a list**"
   ]
  },
  {
   "cell_type": "code",
   "execution_count": 11,
   "metadata": {},
   "outputs": [],
   "source": [
    "acvalue = []\n",
    "for i in df2.acvalue:\n",
    "  acvalue.append(i)"
   ]
  },
  {
   "cell_type": "markdown",
   "metadata": {},
   "source": [
    "### **Combine the 5 lists into a dataframe**"
   ]
  },
  {
   "cell_type": "code",
   "execution_count": 12,
   "metadata": {},
   "outputs": [],
   "source": [
    "data_tuples = list(zip(cid, cmpdname, bioactivity_class, acvalue, pIC50))\n",
    "df3 = pd.DataFrame( data_tuples,  columns=['cid', 'cmpdname', 'bioactivity_class', 'acvalue', 'pIC50'])"
   ]
  },
  {
   "cell_type": "code",
   "execution_count": 13,
   "metadata": {},
   "outputs": [
    {
     "data": {
      "text/html": [
       "<div>\n",
       "<style scoped>\n",
       "    .dataframe tbody tr th:only-of-type {\n",
       "        vertical-align: middle;\n",
       "    }\n",
       "\n",
       "    .dataframe tbody tr th {\n",
       "        vertical-align: top;\n",
       "    }\n",
       "\n",
       "    .dataframe thead th {\n",
       "        text-align: right;\n",
       "    }\n",
       "</style>\n",
       "<table border=\"1\" class=\"dataframe\">\n",
       "  <thead>\n",
       "    <tr style=\"text-align: right;\">\n",
       "      <th></th>\n",
       "      <th>cid</th>\n",
       "      <th>cmpdname</th>\n",
       "      <th>bioactivity_class</th>\n",
       "      <th>acvalue</th>\n",
       "      <th>pIC50</th>\n",
       "    </tr>\n",
       "  </thead>\n",
       "  <tbody>\n",
       "    <tr>\n",
       "      <th>0</th>\n",
       "      <td>56681654</td>\n",
       "      <td>methyl (2S,3R)-2-[[(2S)-2-[[(2S)-2-[[benzyl-[(...</td>\n",
       "      <td>inactive</td>\n",
       "      <td>0.27000</td>\n",
       "      <td>6.568636</td>\n",
       "    </tr>\n",
       "    <tr>\n",
       "      <th>1</th>\n",
       "      <td>44386767</td>\n",
       "      <td>2-((S)-2-{(S)-2-[3-Benzyl-3-((2R,3S)-3-tert-bu...</td>\n",
       "      <td>inactive</td>\n",
       "      <td>0.25000</td>\n",
       "      <td>6.602060</td>\n",
       "    </tr>\n",
       "    <tr>\n",
       "      <th>2</th>\n",
       "      <td>15344717</td>\n",
       "      <td>(S)-2-{(S)-2-[3-((2R,3S)-3-tert-Butoxycarbonyl...</td>\n",
       "      <td>inactive</td>\n",
       "      <td>3.10000</td>\n",
       "      <td>5.508638</td>\n",
       "    </tr>\n",
       "    <tr>\n",
       "      <th>3</th>\n",
       "      <td>12147040</td>\n",
       "      <td>(R)-methyl 2-((R)-2-(3-benzyl-3-((2S,3R)-3-(te...</td>\n",
       "      <td>inactive</td>\n",
       "      <td>0.65000</td>\n",
       "      <td>6.187087</td>\n",
       "    </tr>\n",
       "    <tr>\n",
       "      <th>4</th>\n",
       "      <td>44386506</td>\n",
       "      <td>(S)-2-((S)-2-{3-Benzyl-3-[(2R,3S)-3-((S)-2-ter...</td>\n",
       "      <td>inactive</td>\n",
       "      <td>0.23000</td>\n",
       "      <td>6.638272</td>\n",
       "    </tr>\n",
       "    <tr>\n",
       "      <th>...</th>\n",
       "      <td>...</td>\n",
       "      <td>...</td>\n",
       "      <td>...</td>\n",
       "      <td>...</td>\n",
       "      <td>...</td>\n",
       "    </tr>\n",
       "    <tr>\n",
       "      <th>2955</th>\n",
       "      <td>9843750</td>\n",
       "      <td>Semagacestat</td>\n",
       "      <td>intermediate</td>\n",
       "      <td>0.01090</td>\n",
       "      <td>7.962574</td>\n",
       "    </tr>\n",
       "    <tr>\n",
       "      <th>2956</th>\n",
       "      <td>73441910</td>\n",
       "      <td>2-[(1S)-1-[(2S,5R)-5-[4-chloro-5-fluoro-2-(tri...</td>\n",
       "      <td>active</td>\n",
       "      <td>0.00620</td>\n",
       "      <td>8.207608</td>\n",
       "    </tr>\n",
       "    <tr>\n",
       "      <th>2957</th>\n",
       "      <td>11269353</td>\n",
       "      <td>Begacestat</td>\n",
       "      <td>intermediate</td>\n",
       "      <td>0.01500</td>\n",
       "      <td>7.823909</td>\n",
       "    </tr>\n",
       "    <tr>\n",
       "      <th>2958</th>\n",
       "      <td>57327010</td>\n",
       "      <td>Unii-PX8XQ3H3RV</td>\n",
       "      <td>active</td>\n",
       "      <td>0.00027</td>\n",
       "      <td>9.568636</td>\n",
       "    </tr>\n",
       "    <tr>\n",
       "      <th>2959</th>\n",
       "      <td>160302852</td>\n",
       "      <td>tert-butyl N-[(2S,3R,5R)-6-[[(4S,7R)-8-amino-7...</td>\n",
       "      <td>intermediate</td>\n",
       "      <td>0.01700</td>\n",
       "      <td>7.769551</td>\n",
       "    </tr>\n",
       "  </tbody>\n",
       "</table>\n",
       "<p>2960 rows × 5 columns</p>\n",
       "</div>"
      ],
      "text/plain": [
       "            cid                                           cmpdname  \\\n",
       "0      56681654  methyl (2S,3R)-2-[[(2S)-2-[[(2S)-2-[[benzyl-[(...   \n",
       "1      44386767  2-((S)-2-{(S)-2-[3-Benzyl-3-((2R,3S)-3-tert-bu...   \n",
       "2      15344717  (S)-2-{(S)-2-[3-((2R,3S)-3-tert-Butoxycarbonyl...   \n",
       "3      12147040  (R)-methyl 2-((R)-2-(3-benzyl-3-((2S,3R)-3-(te...   \n",
       "4      44386506  (S)-2-((S)-2-{3-Benzyl-3-[(2R,3S)-3-((S)-2-ter...   \n",
       "...         ...                                                ...   \n",
       "2955    9843750                                       Semagacestat   \n",
       "2956   73441910  2-[(1S)-1-[(2S,5R)-5-[4-chloro-5-fluoro-2-(tri...   \n",
       "2957   11269353                                         Begacestat   \n",
       "2958   57327010                                    Unii-PX8XQ3H3RV   \n",
       "2959  160302852  tert-butyl N-[(2S,3R,5R)-6-[[(4S,7R)-8-amino-7...   \n",
       "\n",
       "     bioactivity_class  acvalue     pIC50  \n",
       "0             inactive  0.27000  6.568636  \n",
       "1             inactive  0.25000  6.602060  \n",
       "2             inactive  3.10000  5.508638  \n",
       "3             inactive  0.65000  6.187087  \n",
       "4             inactive  0.23000  6.638272  \n",
       "...                ...      ...       ...  \n",
       "2955      intermediate  0.01090  7.962574  \n",
       "2956            active  0.00620  8.207608  \n",
       "2957      intermediate  0.01500  7.823909  \n",
       "2958            active  0.00027  9.568636  \n",
       "2959      intermediate  0.01700  7.769551  \n",
       "\n",
       "[2960 rows x 5 columns]"
      ]
     },
     "execution_count": 13,
     "metadata": {},
     "output_type": "execute_result"
    }
   ],
   "source": [
    "df3"
   ]
  },
  {
   "cell_type": "markdown",
   "metadata": {},
   "source": [
    "Saves dataframe to CSV file"
   ]
  },
  {
   "cell_type": "code",
   "execution_count": 14,
   "metadata": {},
   "outputs": [],
   "source": [
    "df3.to_csv('bioactivity_preprocessed_data.csv', index=False)"
   ]
  }
 ],
 "metadata": {
  "kernelspec": {
   "display_name": "Python 3",
   "language": "python",
   "name": "python3"
  },
  "language_info": {
   "codemirror_mode": {
    "name": "ipython",
    "version": 3
   },
   "file_extension": ".py",
   "mimetype": "text/x-python",
   "name": "python",
   "nbconvert_exporter": "python",
   "pygments_lexer": "ipython3",
   "version": "3.13.2"
  }
 },
 "nbformat": 4,
 "nbformat_minor": 2
}
